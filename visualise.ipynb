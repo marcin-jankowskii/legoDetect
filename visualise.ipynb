{
 "cells": [
  {
   "cell_type": "code",
   "execution_count": 16,
   "metadata": {},
   "outputs": [],
   "source": [
    "from PIL import Image, ImageDraw\n",
    "import os\n",
    "\n",
    "def draw_yolo_bbox(image_path, bbox_file_path):\n",
    "    # Wczytanie obrazu\n",
    "    with Image.open(image_path) as im:\n",
    "        draw = ImageDraw.Draw(im)\n",
    "        image_width, image_height = im.size\n",
    "\n",
    "        # Wczytanie bounding boxów z pliku\n",
    "        with open(bbox_file_path, 'r') as file:\n",
    "            for line in file:\n",
    "                class_, x_prop, y_prop, width_prop, height_prop = map(float, line.split())\n",
    "\n",
    "                x = x_prop * image_width\n",
    "                y = y_prop * image_height\n",
    "                width = width_prop * image_width\n",
    "                height = height_prop * image_height\n",
    "                x1 = x + width/2\n",
    "                x2 = x - width/2\n",
    "                y1 = y + height/2\n",
    "                y2 = y - height/2\n",
    "                # Rysowanie bounding boxa\n",
    "                draw.rectangle([(x2,y2), (x1,y1)], outline=\"red\")\n",
    "\n",
    "        # Wyświetlenie obrazu\n",
    "        im.show()\n",
    "\n",
    "# Ścieżki do obrazu i pliku z bounding boxami\n",
    "number = '0025'\n",
    "image_path = 'D:\\Programowanie\\Python\\Magisterka\\Semestr 2\\Wizja Komputerowa\\Projekt\\Dataset\\images\\LDRAW_file-'+ number+'.png'\n",
    "bbox_file_path = 'D:\\Programowanie\\Python\\Magisterka\\Semestr 2\\Wizja Komputerowa\\Projekt\\Dataset\\labels\\LDRAW_file-'+ number +'.txt'\n",
    "\n",
    "# Wywołanie funkcji\n",
    "draw_yolo_bbox(image_path, bbox_file_path)\n"
   ]
  }
 ],
 "metadata": {
  "kernelspec": {
   "display_name": "tf",
   "language": "python",
   "name": "python3"
  },
  "language_info": {
   "codemirror_mode": {
    "name": "ipython",
    "version": 3
   },
   "file_extension": ".py",
   "mimetype": "text/x-python",
   "name": "python",
   "nbconvert_exporter": "python",
   "pygments_lexer": "ipython3",
   "version": "3.11.3"
  }
 },
 "nbformat": 4,
 "nbformat_minor": 2
}
